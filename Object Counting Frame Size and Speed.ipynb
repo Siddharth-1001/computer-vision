{
 "cells": [
  {
   "cell_type": "code",
   "execution_count": 4,
   "id": "fafb33af",
   "metadata": {},
   "outputs": [
    {
     "name": "stdout",
     "output_type": "stream",
     "text": [
      "Downloading yolov4.weights from https://github.com/AlexeyAB/darknet/releases/download/darknet_yolo_v3_optimal/yolov4.weights\n"
     ]
    },
    {
     "name": "stderr",
     "output_type": "stream",
     "text": [
      " 99% |####################################################################### |\r"
     ]
    },
    {
     "name": "stdout",
     "output_type": "stream",
     "text": [
      "Downloading yolov3_classes.txt from https://github.com/arunponnusamy/object-detection-opencv/raw/master/yolov3.txt\n"
     ]
    },
    {
     "name": "stderr",
     "output_type": "stream",
     "text": [
      "100% |                                                                        |\r"
     ]
    },
    {
     "ename": "error",
     "evalue": "OpenCV(4.8.1) D:\\a\\opencv-python\\opencv-python\\opencv\\modules\\dnn\\src\\darknet\\darknet_io.cpp:660: error: (-215:Assertion failed) separator_index < line.size() in function 'cv::dnn::darknet::ReadDarknetFromCfgStream'\n",
     "output_type": "error",
     "traceback": [
      "\u001b[1;31m---------------------------------------------------------------------------\u001b[0m",
      "\u001b[1;31merror\u001b[0m                                     Traceback (most recent call last)",
      "\u001b[1;32md:\\siddharth_master\\projects\\computer-vision\\Object Counting Frame Size and Speed.ipynb Cell 1\u001b[0m line \u001b[0;36m9\n\u001b[0;32m     <a href='vscode-notebook-cell:/d%3A/siddharth_master/projects/computer-vision/Object%20Counting%20Frame%20Size%20and%20Speed.ipynb#W0sZmlsZQ%3D%3D?line=89'>90</a>\u001b[0m \u001b[39mif\u001b[39;00m \u001b[39mnot\u001b[39;00m ret:\n\u001b[0;32m     <a href='vscode-notebook-cell:/d%3A/siddharth_master/projects/computer-vision/Object%20Counting%20Frame%20Size%20and%20Speed.ipynb#W0sZmlsZQ%3D%3D?line=90'>91</a>\u001b[0m     \u001b[39mbreak\u001b[39;00m\n\u001b[1;32m---> <a href='vscode-notebook-cell:/d%3A/siddharth_master/projects/computer-vision/Object%20Counting%20Frame%20Size%20and%20Speed.ipynb#W0sZmlsZQ%3D%3D?line=92'>93</a>\u001b[0m processed_frame \u001b[39m=\u001b[39m process_frame(frame, frame_number)\n\u001b[0;32m     <a href='vscode-notebook-cell:/d%3A/siddharth_master/projects/computer-vision/Object%20Counting%20Frame%20Size%20and%20Speed.ipynb#W0sZmlsZQ%3D%3D?line=93'>94</a>\u001b[0m cv2\u001b[39m.\u001b[39mimshow(\u001b[39m\"\u001b[39m\u001b[39mObject Detection\u001b[39m\u001b[39m\"\u001b[39m, processed_frame)\n\u001b[0;32m     <a href='vscode-notebook-cell:/d%3A/siddharth_master/projects/computer-vision/Object%20Counting%20Frame%20Size%20and%20Speed.ipynb#W0sZmlsZQ%3D%3D?line=94'>95</a>\u001b[0m out\u001b[39m.\u001b[39mwrite(processed_frame)\n",
      "\u001b[1;32md:\\siddharth_master\\projects\\computer-vision\\Object Counting Frame Size and Speed.ipynb Cell 1\u001b[0m line \u001b[0;36m3\n\u001b[0;32m     <a href='vscode-notebook-cell:/d%3A/siddharth_master/projects/computer-vision/Object%20Counting%20Frame%20Size%20and%20Speed.ipynb#W0sZmlsZQ%3D%3D?line=34'>35</a>\u001b[0m \u001b[39mglobal\u001b[39;00m object_counts, object_ids, time_points, counts_over_time\n\u001b[0;32m     <a href='vscode-notebook-cell:/d%3A/siddharth_master/projects/computer-vision/Object%20Counting%20Frame%20Size%20and%20Speed.ipynb#W0sZmlsZQ%3D%3D?line=35'>36</a>\u001b[0m \u001b[39mtry\u001b[39;00m:\n\u001b[1;32m---> <a href='vscode-notebook-cell:/d%3A/siddharth_master/projects/computer-vision/Object%20Counting%20Frame%20Size%20and%20Speed.ipynb#W0sZmlsZQ%3D%3D?line=36'>37</a>\u001b[0m     bbox, labels, conf \u001b[39m=\u001b[39m cv\u001b[39m.\u001b[39;49mdetect_common_objects(frame)\n\u001b[0;32m     <a href='vscode-notebook-cell:/d%3A/siddharth_master/projects/computer-vision/Object%20Counting%20Frame%20Size%20and%20Speed.ipynb#W0sZmlsZQ%3D%3D?line=37'>38</a>\u001b[0m \u001b[39mexcept\u001b[39;00m \u001b[39mValueError\u001b[39;00m \u001b[39mas\u001b[39;00m e:\n\u001b[0;32m     <a href='vscode-notebook-cell:/d%3A/siddharth_master/projects/computer-vision/Object%20Counting%20Frame%20Size%20and%20Speed.ipynb#W0sZmlsZQ%3D%3D?line=38'>39</a>\u001b[0m     \u001b[39mprint\u001b[39m(\u001b[39mf\u001b[39m\u001b[39m\"\u001b[39m\u001b[39mError in object detection: \u001b[39m\u001b[39m{\u001b[39;00me\u001b[39m}\u001b[39;00m\u001b[39m\"\u001b[39m)\n",
      "File \u001b[1;32md:\\siddharth_master\\projects\\computer-vision\\vm\\lib\\site-packages\\cvlib\\object_detection.py:125\u001b[0m, in \u001b[0;36mdetect_common_objects\u001b[1;34m(image, confidence, nms_thresh, model, enable_gpu)\u001b[0m\n\u001b[0;32m    123\u001b[0m \u001b[39mif\u001b[39;00m initialize:\n\u001b[0;32m    124\u001b[0m     classes \u001b[39m=\u001b[39m populate_class_labels()\n\u001b[1;32m--> 125\u001b[0m     net \u001b[39m=\u001b[39m cv2\u001b[39m.\u001b[39;49mdnn\u001b[39m.\u001b[39;49mreadNet(weights_file_abs_path, config_file_abs_path)\n\u001b[0;32m    126\u001b[0m     initialize \u001b[39m=\u001b[39m \u001b[39mFalse\u001b[39;00m\n\u001b[0;32m    128\u001b[0m \u001b[39m# enables opencv dnn module to use CUDA on Nvidia card instead of cpu\u001b[39;00m\n",
      "\u001b[1;31merror\u001b[0m: OpenCV(4.8.1) D:\\a\\opencv-python\\opencv-python\\opencv\\modules\\dnn\\src\\darknet\\darknet_io.cpp:660: error: (-215:Assertion failed) separator_index < line.size() in function 'cv::dnn::darknet::ReadDarknetFromCfgStream'\n"
     ]
    }
   ],
   "source": [
    "import cv2\n",
    "import cvlib as cv\n",
    "from cvlib.object_detection import draw_bbox\n",
    "import matplotlib.pyplot as plt\n",
    "import pandas as pd\n",
    "from openpyxl import load_workbook\n",
    "\n",
    "object_counts = {}\n",
    "object_ids = {}\n",
    "time_points = []\n",
    "counts_over_time = []\n",
    "\n",
    "\n",
    "meters_per_pixel_width = 0.1  \n",
    "meters_per_pixel_height = 0.1  \n",
    "frame_interval = 1  \n",
    "\n",
    "def calculate_object_size(box):\n",
    "    width_meters = box[2] * meters_per_pixel_width\n",
    "    height_meters = box[3] * meters_per_pixel_height\n",
    "    return width_meters, height_meters\n",
    "\n",
    "def calculate_object_speed(previous_position, current_position):\n",
    "    distance_pixels = ((current_position[0] - previous_position[0])**2 + (current_position[1] - previous_position[1])**2)**0.5\n",
    "    speed_meters_per_second = distance_pixels / frame_interval\n",
    "    return speed_meters_per_second\n",
    "\n",
    "size_speed_data = {\n",
    "    'Object': [],\n",
    "    'Size (Width x Height, meters)': [],\n",
    "    'Speed (m/s)': []\n",
    "}\n",
    "\n",
    "def process_frame(frame, frame_number):\n",
    "    global object_counts, object_ids, time_points, counts_over_time\n",
    "    try:\n",
    "        bbox, labels, conf = cv.detect_common_objects(frame)\n",
    "    except ValueError as e:\n",
    "        print(f\"Error in object detection: {e}\")\n",
    "    frame_counts = {}\n",
    "    \n",
    "    for label, box in zip(labels, bbox):\n",
    "        object_id = label.lower()\n",
    "        \n",
    "        width, height = calculate_object_size(box)\n",
    "        \n",
    "        if object_id in object_ids:\n",
    "            previous_position = object_ids[object_id]['position']\n",
    "            speed = calculate_object_speed(previous_position, (box[0], box[1]))\n",
    "            object_ids[object_id]['position'] = (box[0], box[1])\n",
    "            object_ids[object_id]['size'] = (width, height)\n",
    "            \n",
    "            size_speed_data['Object'].append(object_id.capitalize())\n",
    "            size_speed_data['Size (Width x Height, meters)'].append(f\"{width:.2f} x {height:.2f}\")\n",
    "            size_speed_data['Speed (m/s)'].append(f\"{speed:.2f}\")\n",
    "            \n",
    "            cv2.putText(frame, f\"Size: {width:.2f} x {height:.2f} m\", (int(box[0]), int(box[1]) - 10), cv2.FONT_HERSHEY_SIMPLEX, 0.5, (0, 255, 0), 1)\n",
    "            cv2.putText(frame, f\"Speed: {speed:.2f} m/s\", (int(box[0]), int(box[1]) - 30), cv2.FONT_HERSHEY_SIMPLEX, 0.5, (0, 255, 0), 1)\n",
    "            \n",
    "        else:\n",
    "            object_ids[object_id] = {'position': (box[0], box[1]), 'size': (width, height)}\n",
    "\n",
    "        if object_id in frame_counts:\n",
    "            frame_counts[object_id] += 1\n",
    "        else:\n",
    "            frame_counts[object_id] = 1\n",
    "    \n",
    "    output_frame = draw_bbox(frame, bbox, labels, conf)\n",
    "    counts_string = ', '.join([f'{object_id.capitalize()} ({count})' for object_id, count in frame_counts.items()])\n",
    "    cv2.putText(output_frame, counts_string, (10, 30), cv2.FONT_HERSHEY_SIMPLEX, 0.6, (0, 255, 0), 2)\n",
    "\n",
    "    time_points.append(frame_number)\n",
    "    counts_over_time.append(frame_counts)\n",
    "\n",
    "    return output_frame\n",
    "\n",
    "video_path = 'people_walk.mp4'\n",
    "cap = cv2.VideoCapture(video_path)\n",
    "\n",
    "frame_width = int(cap.get(cv2.CAP_PROP_FRAME_WIDTH))\n",
    "frame_height = int(cap.get(cv2.CAP_PROP_FRAME_HEIGHT))\n",
    "fps = int(cap.get(cv2.CAP_PROP_FPS))\n",
    "fourcc = cv2.VideoWriter_fourcc(*'XVID')\n",
    "out = cv2.VideoWriter('people_walk_detect.avi', fourcc, fps, (frame_width, frame_height))\n",
    "\n",
    "frame_number = 0\n",
    "\n",
    "while True:\n",
    "    ret, frame = cap.read()\n",
    "    if not ret:\n",
    "        break\n",
    "\n",
    "    processed_frame = process_frame(frame, frame_number)\n",
    "    cv2.imshow(\"Object Detection\", processed_frame)\n",
    "    out.write(processed_frame)\n",
    "\n",
    "    if cv2.waitKey(1) & 0xFF == ord('q'):\n",
    "        break\n",
    "\n",
    "    frame_number += 1\n",
    "\n",
    "cap.release()\n",
    "out.release()\n",
    "cv2.destroyAllWindows()\n",
    "\n",
    "import plotly.express as px\n",
    "\n",
    "df = pd.DataFrame(counts_over_time)\n",
    "df['Frame Number'] = time_points\n",
    "fig = px.line(df, x='Frame Number', y=df.columns[:-1], title='Object Count Over Time')\n",
    "fig.show()"
   ]
  },
  {
   "cell_type": "code",
   "execution_count": null,
   "metadata": {},
   "outputs": [],
   "source": []
  }
 ],
 "metadata": {
  "kernelspec": {
   "display_name": "Python 3 (ipykernel)",
   "language": "python",
   "name": "python3"
  },
  "language_info": {
   "codemirror_mode": {
    "name": "ipython",
    "version": 3
   },
   "file_extension": ".py",
   "mimetype": "text/x-python",
   "name": "python",
   "nbconvert_exporter": "python",
   "pygments_lexer": "ipython3",
   "version": "3.8.10"
  }
 },
 "nbformat": 4,
 "nbformat_minor": 5
}
